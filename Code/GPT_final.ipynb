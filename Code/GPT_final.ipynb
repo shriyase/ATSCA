{
 "cells": [
  {
   "cell_type": "markdown",
   "metadata": {},
   "source": [
    "Extracting User's Google Calendar"
   ]
  },
  {
   "cell_type": "code",
   "execution_count": 11,
   "metadata": {},
   "outputs": [],
   "source": [
    "from google.oauth2.credentials import Credentials\n",
    "from google_auth_oauthlib.flow import InstalledAppFlow\n",
    "from google.auth.transport.requests import Request\n",
    "import googleapiclient.discovery\n",
    "import datetime\n"
   ]
  },
  {
   "cell_type": "code",
   "execution_count": 12,
   "metadata": {},
   "outputs": [
    {
     "name": "stdout",
     "output_type": "stream",
     "text": [
      "The autoreload extension is already loaded. To reload it, use:\n",
      "  %reload_ext autoreload\n"
     ]
    }
   ],
   "source": [
    "%load_ext autoreload\n",
    "%autoreload 2"
   ]
  },
  {
   "cell_type": "code",
   "execution_count": 13,
   "metadata": {},
   "outputs": [
    {
     "name": "stdout",
     "output_type": "stream",
     "text": [
      "To-Do list for the week:\n",
      "1. GPT prompt engineering - make GPT refine prompt\n",
      "2. Ask coe to mail degree certificate to umich\n",
      "3. Jacket and bag zip repair\n",
      "4. Send emails to professors for research in summer\n",
      "\n",
      "Events for today:\n",
      "1. Ask coe to mail degree certificate to umich from 10:00 AM to 11:00 AM\n",
      "2. Jacket and bag zip repair from 1:00 PM to 2:00 PM"
     ]
    }
   ],
   "source": [
    "import methods #file containing functions to interact with Google calendar like add event, create event, etc\n",
    "import json\n",
    "import re\n",
    "\n",
    "google_calendar = methods.get_google_calendar_service() #get the google calendar service\n",
    "tasks = methods.get_task_service() #get the task service\n",
    "tasks_list = methods.extractTasks(tasks)\n",
    "calendar = methods.extractCalendar(google_calendar) #extract the calendar from the service\n",
    "client = methods.set_up_ChatGPT(calendar, tasks_list) #set up the ChatGPT model\n",
    "now = methods.current_time()"
   ]
  },
  {
   "cell_type": "markdown",
   "metadata": {},
   "source": [
    "Logging Previous Conversation"
   ]
  },
  {
   "cell_type": "code",
   "execution_count": 14,
   "metadata": {},
   "outputs": [],
   "source": [
    "def log_activity(role, message):\n",
    "    filename = f\"activity_log.txt\"\n",
    "    with open(filename, \"a\") as file:\n",
    "        timestamp = datetime.datetime.now().isoformat()\n",
    "        file.write(f\"{timestamp} | {role}: {message}\\n\")"
   ]
  },
  {
   "cell_type": "code",
   "execution_count": 15,
   "metadata": {},
   "outputs": [],
   "source": [
    "def log_message(role, message):\n",
    "    filename = f\"conversation_log.txt\"\n",
    "    with open(filename, \"a\") as file:\n",
    "        timestamp = datetime.datetime.now().isoformat()\n",
    "        file.write(f\"{timestamp} | {role}: {message}\\n\")"
   ]
  },
  {
   "cell_type": "code",
   "execution_count": 16,
   "metadata": {},
   "outputs": [],
   "source": [
    "def get_past_conversation():\n",
    "    filename = f\"conversation_log.txt\"\n",
    "    try:\n",
    "        with open(filename, \"r\") as file:\n",
    "            return file.read()\n",
    "    except FileNotFoundError:\n",
    "        return \"\""
   ]
  },
  {
   "cell_type": "markdown",
   "metadata": {},
   "source": [
    "Get User's Query"
   ]
  },
  {
   "cell_type": "code",
   "execution_count": 17,
   "metadata": {},
   "outputs": [],
   "source": [
    "past_conversation = get_past_conversation()\n",
    "# schedule tasks or calendar events\n",
    "\n",
    "context = f\"Here's my calendar and To-Do list for the week, store it for your reference. Calendar: {calendar}\\n To-Do Tasks: {tasks_list} Today's date and time is: {now}\\n\"\n",
    "instruction = \"\"\"\\nAs my trusted virtual assistant, you are an expert in adeptly managing my calendar and assisting with scheduling tasks. Here is what I need from you:\n",
    "\n",
    "1. **Calendar Management**:\n",
    " You have the capability to create, adjust, oversee, list, update, delete, and handle recurring events on my calendar as per my requests.\n",
    "    - In situations where I don't provide enough information, you can ask for more details, upto 4 times, otherwise use your best judgement.\n",
    "    - Should an event require scheduling or rescheduling and I haven't provided a specific time, consult my calendar and deduce a suitable time slot using your best judgement. Consider my usual habits, such as meal and sleep times, and assume a standard event duration of 1 hour unless your judgement suggests otherwise based on the nature of the event.\n",
    "    - Before confirming any scheduling actions, scrutinize for any possible scheduling conflicts.\n",
    "    - Always ask for confirmation before making any changes to the calendar. If I reject the suggested time, offer an alternative time slot.\n",
    "    - Inform me when you have successfully completed your task and ensure there are no more pending queries from your end, otherwise always end with a question mark. \n",
    "   \n",
    "2. **Task Scheduling**:\n",
    "You have the capability to schedule tasks from my To-Do list into my calendar.\n",
    "    - Utilize your best judgement to organize and propose times for scheduling tasks listed in my To-Do list. Prioritize tasks based on urgency and balance throughout the available slots in my schedule.\n",
    "    - Verify the calendar to ensure a task isn't already scheduled before adding it.\n",
    "    - Check for any conflicts that may arise due to overlapping tasks or events.\n",
    "    - Present a thoughtful plan for the scheduled tasks. Use your best judgement to predict task durations based on the nature of each task.\n",
    "    - Ask for my confirmation before finalizing the schedule. \n",
    "    - If I disagree with the proposed times, offer alternatives based on my feedback.\n",
    "    - Always end your messages with a question mark to indicate that you are seeking a response from me, unless it's a confirmation of a task completion.\n",
    "\n",
    "For example, if I request: 'Schedule a meeting with the design team on Wednesday,' your response might be: 'Based on your current calendar, Wednesday 10 AM is available and seems like a quiet time for you. Should I schedule the meeting for then?' \n",
    "Example request: 'schedule all my tasks'\n",
    "Example response: 'Sure! Here's a proposed schedule for all your tasks. Is there anything you'd like to change?\n",
    "- Task 1: Apr 2nd, 10:00 AM - 11:00 AM\n",
    "- Task 2: Apr 2nd, 11:00 AM - 12:00 PM\n",
    "- Task 3: Apr 2nd, 12:00 PM - 1:00 PM\n",
    "Please perform the necessary actions using the Google Calendar API.\\n\n",
    "Here's the previous conversation with the user, read it and understand user preferences if any, use it to make your best judgement on scheduling.\\n\"\"\"\n",
    "# initial setup\n",
    "\n",
    "initial_prompt = context + instruction + past_conversation"
   ]
  },
  {
   "cell_type": "code",
   "execution_count": 18,
   "metadata": {},
   "outputs": [],
   "source": [
    "user_request = input()\n",
    "combined_prompt = initial_prompt + \"\\nUser request: \" + user_request\n"
   ]
  },
  {
   "cell_type": "code",
   "execution_count": 19,
   "metadata": {},
   "outputs": [],
   "source": [
    "def chat_gpt(client, messages):\n",
    "    response = client.chat.completions.create(\n",
    "        model=\"gpt-3.5-turbo\",\n",
    "        messages=messages,\n",
    "        max_tokens=500\n",
    "    )\n",
    "    return response.choices[0].message.content\n",
    "\n",
    "messages = [\n",
    "    {\n",
    "        \"role\": \"system\",\n",
    "        \"content\": initial_prompt\n",
    "    },\n",
    "    {\n",
    "        \"role\": \"user\",\n",
    "        \"content\": user_request\n",
    "    }\n",
    "]\n",
    "log_activity(\"system\", context+instruction)\n",
    "log_activity(\"user\", user_request)\n",
    "\n",
    "log_message(\"user\", user_request)"
   ]
  },
  {
   "cell_type": "code",
   "execution_count": 20,
   "metadata": {},
   "outputs": [
    {
     "name": "stdout",
     "output_type": "stream",
     "text": [
      "I see that you have some free time tomorrow for a walk from 12:00 PM to 1:00 PM. Would you like me to schedule the walk for you during that time slot?\n",
      "Based on your usual patterns and the upcoming events in your calendar, I suggest scheduling a walk for you in the evening tomorrow at 6:00 PM. Does that time work for you?\n",
      "Great! I have scheduled a walk for you tomorrow in the evening at 6:00 PM. Enjoy your walk! Is there anything else you would like me to assist with?\n",
      "Perfect! If you need any help in the future, feel free to ask. Have a wonderful day! Goodbye!\n"
     ]
    }
   ],
   "source": [
    "finalized_response = False\n",
    "\n",
    "#establishing feedback loop to chat with user\n",
    "while not finalized_response:\n",
    "    response = chat_gpt(client, messages)\n",
    "    log_activity(\"assistant\", response)\n",
    "    print(response)\n",
    "    log_message(\"assistant\", response)\n",
    "    messages.append({\n",
    "        \"role\": \"assistant\",\n",
    "        \"content\": response\n",
    "    })\n",
    "    if re.compile(r'\\?').search(response):\n",
    "        finalized_response = False\n",
    "        user_feedback = input()\n",
    "        messages.append({\n",
    "            \"role\": \"user\",\n",
    "            \"content\": user_feedback\n",
    "        })\n",
    "        log_message(\"user\", user_feedback)\n",
    "        log_activity(\"user\", user_feedback)\n",
    "    else:\n",
    "        finalized_response = True\n"
   ]
  },
  {
   "cell_type": "code",
   "execution_count": 21,
   "metadata": {},
   "outputs": [],
   "source": [
    "#get GPT to output the function calls I need to make to the calendar API\n",
    "instruction2 = \"\"\"\\nBased on the user's request you've just processed, please output the appropriate function call(s) to interact with the Google Calendar API. Format your response as a single string containing one or more function calls separated by semicolons. Do not include explanations or additional text. If there is no action required then output an empty string.\n",
    "All dates should be in 'YYYY-MM-DD' format, and times should be in 24-hour format 'HH:MM'. Additionally, assume default duration as 1 hour for any event. Use createEvent for scheduling tasks on the to-do list.\n",
    "Available function templates to include in the response string:\n",
    "- createEvent(description, date, time, duration)\n",
    "- moveEvent(event_id, new_date, new_time)\n",
    "- updateEvent(event_id, new_color, new_duration, new_location)\n",
    "- deleteEvent(event_id)\n",
    "- createRecurringEvent(description, start_date, time, duration, frequency, until_date). Frequency can have the value of DAILY, WEEKLY, MONTHLY, YEARLY.\n",
    "- deleteRecurringEvent(recurring_event_id) \n",
    "- updateRecurringEvent(recurring_event_id, new_color, new_duration, new_location, new_frequency, new_until)\n",
    "For all functions other than createEvent and createRecurringEvent, make sure to fill in the id of the event you are referring to from the calendar provided.\n",
    "Make sure to fill in the required information, such as event names, dates, times, etc., based on the user's request context. Replace placeholders like 'today' or 'tomorrow' with specific dates in the format YYYY-MM-DD. If more details are needed from the user for a function call, use your best judgment to complete the function with the information available.\n",
    "Example input1: Schedule a team meeting for Friday afternoon at 3pm\n",
    "Example output1: createEvent(\"Team Meeting\", \"YYYY-MM-DD\", \"15:00\", 1:00)\n",
    "Example input2: Update my team meeting to be two hours\n",
    "Example output2: updateEvent(\"event_id\", '', 2:00, '')\n",
    "Example input3: Create a recurring meeting every Wednesday at 2pm until the end of June\n",
    "Example output3: createRecurringEvent(\"Meeting\", \"YYYY-MM-DD\", \"02:00\", \"1:00\", \"WEEKLY\", \"YYYY-MM-DD\")\n",
    "Example input4: Update my recurring meeting every Wednesday at 2pm to be every month until the end of August\n",
    "Example output4: updateRecurringEvent(\"RecurringEventId\", \"\", \"02:00\", \"1:00\", \"\", \"MONTHLY\", \"YYYY-MM-DD\")\n",
    "Example input5: Move my team meeting to tomorrow at 12pm\n",
    "Example output5: moveEvent(\"event_id\", 'YYYY-MM-DD', '12:00')\n",
    "Example input6: Clear my afternoon\n",
    "Example output7: deleteEvent(\"event_id\");deleteEvent(\"event_id\")\n",
    "Example input8: Schedule all my tasks\n",
    "Example output8: createEvent(\"Task 1\", \"YYYY-MM-DD\", \"10:00\", 1:00);createEvent(\"Task 2\", \"YYYY-MM-DD\", \"11:00\", 1:00);createEvent(\"Task 3\", \"YYYY-MM-DD\", \"12:00\", 1:00)\\n\n",
    "\n",
    "Now, please generate the necessary function call(s) based on the user's request.\"\"\""
   ]
  },
  {
   "cell_type": "code",
   "execution_count": 22,
   "metadata": {},
   "outputs": [
    {
     "name": "stdout",
     "output_type": "stream",
     "text": [
      "createEvent(\"Walk\", \"2024-04-19\", \"18:00\", 1:00)\n"
     ]
    }
   ],
   "source": [
    "messages.append({\n",
    "    \"role\": \"system\",\n",
    "    \"content\": instruction2\n",
    "})\n",
    "log_activity(\"system\", instruction2)\n",
    "function_call = chat_gpt(client, messages)\n",
    "log_activity(\"assistant\", function_call)\n",
    "print(function_call)\n",
    "#Example of function call: createEvent(\"Meeting with John\", \"2022-12-31\", \"10:00 AM\", 2)"
   ]
  },
  {
   "cell_type": "code",
   "execution_count": 23,
   "metadata": {},
   "outputs": [
    {
     "name": "stdout",
     "output_type": "stream",
     "text": [
      "['createEvent(\"Walk\", \"2024-04-19\", \"18:00\", 1:00)']\n",
      "Create event called\n",
      "The data and time is  2024-04-19 / 18:00\n",
      "UTC start time:  2024-04-19 22:00:00+00:00 UTC end time:  2024-04-19 23:00:00+00:00\n",
      "Event created: Walk on 2024-04-19 at 18:00 for duration of 1:00 hours.\n"
     ]
    }
   ],
   "source": [
    "if '(' in function_call:\n",
    "    function_calls = [line.strip() for line in function_call.split(';')]\n",
    "    print(function_calls)\n",
    "\n",
    "    # Define a dictionary mapping function names to their corresponding Python functions\n",
    "    functions = {\n",
    "        \"createEvent\": methods.createEvent,\n",
    "        \"moveEvent\": methods.moveEvent,\n",
    "        \"updateEvent\": methods.updateEvent,\n",
    "        \"deleteEvent\": methods.deleteEvent,\n",
    "        \"createRecurringEvent\": methods.createRecurringEvent,\n",
    "        \"updateRecurringEvent\": methods.updateRecurringEvent,\n",
    "        \"deleteRecurringEvent\": methods.deleteRecurringEvent,\n",
    "    }\n",
    "\n",
    "    # Iterate through the function calls\n",
    "    for call in function_calls:\n",
    "        # Split the string to extract function name and arguments\n",
    "        if call != '':\n",
    "            parts = call.split('(')\n",
    "            function_name = parts[0]\n",
    "            arguments = parts[1].rstrip(')').split(', ')\n",
    "\n",
    "        # Call the corresponding function with the provided arguments\n",
    "        if function_name in functions:\n",
    "            functions[function_name](*arguments)\n",
    "        else:\n",
    "            print(f\"Function '{function_name}' not found.\")"
   ]
  }
 ],
 "metadata": {
  "kernelspec": {
   "display_name": "venv",
   "language": "python",
   "name": "python3"
  },
  "language_info": {
   "codemirror_mode": {
    "name": "ipython",
    "version": 3
   },
   "file_extension": ".py",
   "mimetype": "text/x-python",
   "name": "python",
   "nbconvert_exporter": "python",
   "pygments_lexer": "ipython3",
   "version": "3.11.7"
  }
 },
 "nbformat": 4,
 "nbformat_minor": 2
}
